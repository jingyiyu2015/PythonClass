{
 "cells": [
  {
   "cell_type": "markdown",
   "metadata": {},
   "source": [
    "### Intro to AI"
   ]
  },
  {
   "cell_type": "code",
   "execution_count": 1,
   "metadata": {},
   "outputs": [
    {
     "name": "stderr",
     "output_type": "stream",
     "text": [
      "/Users/jingyi/miniconda2/envs/ai/lib/python3.6/importlib/_bootstrap.py:219: RuntimeWarning: compiletime version 3.5 of module 'tensorflow.python.framework.fast_tensor_util' does not match runtime version 3.6\n",
      "  return f(*args, **kwds)\n"
     ]
    }
   ],
   "source": [
    "import tensorflow as tf\n",
    "import numpy as np"
   ]
  },
  {
   "cell_type": "code",
   "execution_count": 14,
   "metadata": {},
   "outputs": [
    {
     "name": "stdout",
     "output_type": "stream",
     "text": [
      "1.04912\n",
      "[array([ 0.28227499], dtype=float32), array([ 0.25975001], dtype=float32)]\n",
      "0.109827\n",
      "[array([ 0.46256652], dtype=float32), array([ 0.31549349], dtype=float32)]\n",
      "0.0162771\n",
      "[array([ 0.51889324], dtype=float32), array([ 0.33487859], dtype=float32)]\n",
      "0.00683989\n",
      "[array([ 0.53613496], dtype=float32), array([ 0.34277084], dtype=float32)]\n",
      "0.00577155\n",
      "[array([ 0.5410589], dtype=float32), array([ 0.34701222], dtype=float32)]\n",
      "0.00553935\n",
      "[array([ 0.54210597], dtype=float32), array([ 0.35007611], dtype=float32)]\n",
      "0.00539404\n",
      "[array([ 0.54193801], dtype=float32), array([ 0.35274285], dtype=float32)]\n",
      "0.005261\n",
      "[array([ 0.54139435], dtype=float32), array([ 0.35525891], dtype=float32)]\n",
      "0.00513269\n",
      "[array([ 0.54073954], dtype=float32), array([ 0.35770237], dtype=float32)]\n",
      "0.00500827\n",
      "[array([ 0.54005688], dtype=float32), array([ 0.36009836], dtype=float32)]\n",
      "Prediction result: \n",
      "[array([ 0.36222106,  0.63194144,  1.17138219], dtype=float32)]\n"
     ]
    }
   ],
   "source": [
    "# Placeholders\n",
    "X = tf.placeholder(tf.float32)\n",
    "y = tf.placeholder(tf.float32)\n",
    "\n",
    "# Variables\n",
    "w = tf.Variable([0.25], tf.float32)\n",
    "b = tf.Variable([0.25],tf.float32)\n",
    "\n",
    "# Hypotheses\n",
    "hypotheses = w * X + b\n",
    "\n",
    "# error function a.k.a (also know as ) loss function\n",
    "error = tf.reduce_mean((y - hypotheses) ** 2)\n",
    "\n",
    "sess = tf.Session()\n",
    "sess.run(tf.global_variables_initializer())\n",
    "\n",
    "# training operation\n",
    "optimizer = tf.train.GradientDescentOptimizer(learning_rate = 0.005)\n",
    "train_op = optimizer.minimize(error)\n",
    "\n",
    "# X_train = [1, 2, 3, 4]\n",
    "X_train = np.array([1, 2, 3, 4, 4.5])\n",
    "y_train = np.array([1.05, 1.45, 2.0, 2.5, 2.75])\n",
    "\n",
    "# result = sess.run([hypotheses], feed_dict={X: X_train, y: y_train})\n",
    "for i in range(100):\n",
    "    _, err_result = sess.run([train_op, error], feed_dict={X: X_train, y: y_train})\n",
    "    if i %10 == 0:\n",
    "        print(err_result)\n",
    "        print (sess.run([w, b]))\n",
    "\n",
    "print(\"Prediction result: \")\n",
    "X_predict = np.array([0.0, 0.5, 1.5])\n",
    "print(sess.run([hypotheses], feed_dict={X: X_predict}))\n",
    "\n",
    "sess.close()\n"
   ]
  },
  {
   "cell_type": "code",
   "execution_count": null,
   "metadata": {},
   "outputs": [],
   "source": []
  }
 ],
 "metadata": {
  "kernelspec": {
   "display_name": "Python 3",
   "language": "python",
   "name": "python3"
  },
  "language_info": {
   "codemirror_mode": {
    "name": "ipython",
    "version": 3
   },
   "file_extension": ".py",
   "mimetype": "text/x-python",
   "name": "python",
   "nbconvert_exporter": "python",
   "pygments_lexer": "ipython3",
   "version": "3.6.3"
  }
 },
 "nbformat": 4,
 "nbformat_minor": 2
}
